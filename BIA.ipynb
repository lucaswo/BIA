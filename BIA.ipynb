{
 "cells": [
  {
   "cell_type": "code",
   "execution_count": null,
   "metadata": {},
   "outputs": [],
   "source": [
    "import numpy as np\n",
    "from scipy.stats import gaussian_kde\n",
    "\n",
    "from scipy.spatial import cKDTree\n",
    "\n",
    "import cma\n",
    "\n",
    "import matplotlib.pyplot as plt\n",
    "%matplotlib inline"
   ]
  },
  {
   "cell_type": "code",
   "execution_count": null,
   "metadata": {},
   "outputs": [],
   "source": [
    "test_range = np.arange(0,1,0.1)\n",
    "# points to observe\n",
    "pointsX = np.dstack((test_range, np.sin(test_range)))[0]\n",
    "# the context points\n",
    "pointsY = np.dstack((test_range, np.cos(test_range)))[0]\n",
    "orig_shape = pointsX.shape[1]"
   ]
  },
  {
   "cell_type": "code",
   "execution_count": null,
   "metadata": {},
   "outputs": [],
   "source": [
    "# grid\n",
    "grid_spacing = 0.01\n",
    "min_grid_x = min(np.min(pointsX[:,0]), np.min(pointsY[:,0]))\n",
    "min_grid_y = min(np.min(pointsX[:,1]), np.min(pointsY[:,1]))\n",
    "max_grid_x = max(np.max(pointsX[:,0]), np.max(pointsY[:,0]))\n",
    "max_grid_y = max(np.max(pointsX[:,1]), np.max(pointsY[:,1]))\n",
    "\n",
    "if orig_shape > 2:\n",
    "    min_grid_z = min(np.min(pointsX[:,2]), np.min(pointsY[:,2]))\n",
    "    max_grid_z = max(np.max(pointsX[:,2]), np.min(pointsY[:,2]))\n",
    "else:\n",
    "    min_grid_z = 0.0\n",
    "    max_grid_z = grid_spacing\n",
    "\n",
    "xs = np.arange(min_grid_x,max_grid_x, grid_spacing)\n",
    "ys = np.arange(min_grid_y, max_grid_y, grid_spacing)\n",
    "zs = np.arange(min_grid_z, max_grid_z, grid_spacing)\n",
    "x, y, z = np.meshgrid(xs,ys,zs)\n",
    "sampled_points = np.dstack((x,y,z)).reshape(-1,3)\n",
    "    \n",
    "print(\"grid dimensions x:({},{}) y:({},{}) z:({},{})\".format(min_grid_x, max_grid_x, \n",
    "                                                   min_grid_y, max_grid_y, min_grid_z, \n",
    "                                                   max_grid_z if max_grid_z != grid_spacing else 0.0))"
   ]
  },
  {
   "cell_type": "code",
   "execution_count": null,
   "metadata": {},
   "outputs": [],
   "source": [
    "# pad points to 3D, distance tree over Y (context)\n",
    "if pointsX.shape[1] == 2:\n",
    "    pointsX = np.hstack((pointsX, np.zeros((pointsX.shape[0], 1))))\n",
    "if pointsY.shape[1] == 2:\n",
    "    pointsY = np.hstack((pointsY, np.zeros((pointsY.shape[0], 1))))\n",
    "tree = cKDTree(pointsY)"
   ]
  },
  {
   "cell_type": "code",
   "execution_count": null,
   "metadata": {},
   "outputs": [],
   "source": [
    "# distances of grid points to the context Y\n",
    "sampled_distances = tree.query(sampled_points)[0]"
   ]
  },
  {
   "cell_type": "code",
   "execution_count": null,
   "metadata": {},
   "outputs": [],
   "source": [
    "# calculate bin width and build grid\n",
    "no_of_bins = 1000\n",
    "bin_width = (np.max(sampled_distances) - np.min(sampled_distances)) / no_of_bins\n",
    "qd_distance_grid = np.arange(0,no_of_bins) * bin_width\n",
    "print(\"bin width:\", bin_width)"
   ]
  },
  {
   "cell_type": "code",
   "execution_count": null,
   "metadata": {},
   "outputs": [],
   "source": [
    "# calculate silvermann factor for first gaussian\n",
    "q1 = np.percentile(sampled_distances, 25)\n",
    "q3 = np.percentile(sampled_distances, 75)\n",
    "\n",
    "sil_bandwith = 0.9 * min(np.std(sampled_distances), (q3 - q1) / 1.34) * np.power(len(sampled_distances), -0.2)\n",
    "print(\"silverman:\", sil_bandwith)"
   ]
  },
  {
   "cell_type": "code",
   "execution_count": null,
   "metadata": {},
   "outputs": [],
   "source": [
    "# build gaussian kernel from sampled context distances (qd) on grid\n",
    "kde_context = gaussian_kde(sampled_distances, bw_method=sil_bandwith)\n",
    "qd_pdf = kde_context(qd_distance_grid)\n",
    "\n",
    "area = 0\n",
    "i = 0\n",
    "while i < len(qd_distance_grid)-1:\n",
    "    area += 0.5*(qd_pdf[i]+qd_pdf[i+1])*bin_width\n",
    "    i += 1\n",
    "    \n",
    "qd_pdf = qd_pdf/area"
   ]
  },
  {
   "cell_type": "code",
   "execution_count": null,
   "metadata": {},
   "outputs": [],
   "source": [
    "# distances between groups of points\n",
    "distances_XtoY = tree.query(pointsX)[0]"
   ]
  },
  {
   "cell_type": "code",
   "execution_count": null,
   "metadata": {},
   "outputs": [],
   "source": [
    "# calculate silvermann factor for second gaussian\n",
    "q1 = np.percentile(distances_XtoY, 25)\n",
    "q3 = np.percentile(distances_XtoY, 75)\n",
    "\n",
    "sil_bandwith = 0.9 * min(np.std(distances_XtoY), (q3 - q1) / 1.34) * np.power(len(distances_XtoY), -0.2)\n",
    "print(\"silverman:\", sil_bandwith)"
   ]
  },
  {
   "cell_type": "code",
   "execution_count": null,
   "metadata": {},
   "outputs": [],
   "source": [
    "# build gaussian kernel from distances between X and Y on grid \n",
    "kde_XtoY = gaussian_kde(distances_XtoY, bw_method=sil_bandwith)\n",
    "distances_XtoY_pdf = kde_XtoY(qd_distance_grid)\n",
    "\n",
    "area = 0\n",
    "i = 0\n",
    "while i < len(qd_distance_grid)-1:\n",
    "    area += 0.5*(distances_XtoY_pdf[i]+distances_XtoY_pdf[i+1])*bin_width\n",
    "    i += 1\n",
    "    \n",
    "distances_XtoY_pdf = distances_XtoY_pdf/area"
   ]
  },
  {
   "cell_type": "code",
   "execution_count": null,
   "metadata": {
    "scrolled": false
   },
   "outputs": [],
   "source": [
    "# plot distances X to Y and distances Y to grid\n",
    "fig, ax = plt.subplots(figsize=(12,6))\n",
    "ax.plot(qd_distance_grid, distances_XtoY_pdf, label=\"distances X to Y\")\n",
    "ax.plot(qd_distance_grid, qd_pdf, label=\"distances Y to grid\")\n",
    "ax.legend()"
   ]
  },
  {
   "cell_type": "code",
   "execution_count": null,
   "metadata": {},
   "outputs": [],
   "source": [
    "# example potential\n",
    "def plummer_potential(di, threshold, sigma):\n",
    "    z = (di - threshold) / np.abs(sigma)\n",
    "    if z > 0:\n",
    "        return -1 * np.power(1 + z * z, -0.5)\n",
    "    else:\n",
    "        return -1\n",
    "\n",
    "# generic fucntion to calculate potential, gibs potential and summed potential for a vector of distances\n",
    "def calculate_potential(distances, potential_func, epsilon, sigma, threshold=0):\n",
    "    potential = np.zeros(len(distances))\n",
    "    sum_potential = 0\n",
    "    gibs_potential = np.zeros_like(potential)\n",
    "    i = 0\n",
    "    \n",
    "    for d in distances:\n",
    "        potential[i] = epsilon * potential_func(d, threshold, sigma)\n",
    "        gibs_potential[i] = np.exp(-1 * potential[i])\n",
    "        sum_potential += potential[i]\n",
    "        \n",
    "        i += 1\n",
    "        \n",
    "    return potential, gibs_potential, sum_potential"
   ]
  },
  {
   "cell_type": "code",
   "execution_count": null,
   "metadata": {},
   "outputs": [],
   "source": [
    "# another example potential\n",
    "def hernquist_potential(di, threshold, sigma):\n",
    "    z = (di - threshold) / np.abs(sigma);\n",
    "    if z > 0:\n",
    "        return -1 / (1 + z)\n",
    "    else:\n",
    "        return -1 * (1 - z)"
   ]
  },
  {
   "cell_type": "code",
   "execution_count": null,
   "metadata": {},
   "outputs": [],
   "source": [
    "# normalization\n",
    "def calculate_Z(gibbs_potential):\n",
    "    support = gibbs_potential * qd_pdf\n",
    "    \n",
    "    Z = 0\n",
    "    \n",
    "    for i,x in enumerate(support[:-1]):\n",
    "        Z += (x + support[i + 1]) / 2 * bin_width\n",
    "    \n",
    "    return Z\n",
    "\n",
    "# check if value is feasible (epsilon larger than 0.0 and sigma in range)\n",
    "def is_feasible(x):\n",
    "    if (np.abs(x[0]) > machine_epsilon) & (x[1] >= low_range) & (x[1] <= high_range):\n",
    "        return True\n",
    "        \n",
    "    return False"
   ]
  },
  {
   "cell_type": "code",
   "execution_count": null,
   "metadata": {},
   "outputs": [],
   "source": [
    "# returns a score given epsilon, sigma and a potential\n",
    "def fit_function(params, potential):\n",
    "    _, gibbs_potential, _ = calculate_potential(qd_distance_grid, potential, *params)\n",
    "    Z = calculate_Z(gibbs_potential)\n",
    "    \n",
    "    observed_model_fit_pd_pdf = gibbs_potential * qd_pdf * (1 / Z);\n",
    "    \n",
    "    value = 0\n",
    "    i = 0\n",
    "    \n",
    "    for x in observed_model_fit_pd_pdf:\n",
    "        value += np.power((x - distances_XtoY_pdf[i]), 2);\n",
    "        \n",
    "        i += 1\n",
    "    \n",
    "    return value"
   ]
  },
  {
   "cell_type": "code",
   "execution_count": null,
   "metadata": {},
   "outputs": [],
   "source": [
    "# optimizer setup\n",
    "machine_epsilon = np.finfo(np.double).eps\n",
    "low_range = max((min(np.min(qd_distance_grid), np.min(distances_XtoY)), machine_epsilon))\n",
    "high_range = max(np.max(qd_distance_grid), np.max(distances_XtoY))"
   ]
  },
  {
   "cell_type": "code",
   "execution_count": null,
   "metadata": {},
   "outputs": [],
   "source": [
    "# initial population. Choose a potential!\n",
    "x0 = np.random.random() * 5\n",
    "x1 = np.random.random() * np.mean(distances_XtoY)\n",
    "cur_potential = plummer_potential"
   ]
  },
  {
   "cell_type": "code",
   "execution_count": null,
   "metadata": {},
   "outputs": [],
   "source": [
    "# optimzer init\n",
    "es = cma.CMAEvolutionStrategy([x0, x1], x1/3, \n",
    "                              inopts={\"tolfun\": 1e-15, \"tolfunhist\": 1e-13})"
   ]
  },
  {
   "cell_type": "code",
   "execution_count": null,
   "metadata": {
    "scrolled": true
   },
   "outputs": [],
   "source": [
    "# optimization\n",
    "while not es.stop():\n",
    "    # ask for a population\n",
    "    X = es.ask()\n",
    "    \n",
    "    i = 0\n",
    "    for x in X:\n",
    "        # Are all values in the population feasible? If not, recalculate.\n",
    "        while not is_feasible(x):\n",
    "            x = es.ask(1)[0]\n",
    "            \n",
    "        X[i] = x\n",
    "        \n",
    "        i += 1\n",
    "    \n",
    "    # get score of current epsilon and sigma\n",
    "    fit = [fit_function(x, cur_potential) for x in X]\n",
    "    \n",
    "    # return score to optimizer\n",
    "    es.tell(X, fit)\n",
    "    es.disp()\n",
    "es.result_pretty()"
   ]
  },
  {
   "cell_type": "code",
   "execution_count": null,
   "metadata": {},
   "outputs": [],
   "source": [
    "# get best values for epsilon and sigma (scale)\n",
    "eps, sigma = es.best.get()[0]"
   ]
  },
  {
   "cell_type": "code",
   "execution_count": null,
   "metadata": {},
   "outputs": [],
   "source": [
    "# plot current potential with best epsilon and sigma (scale)\n",
    "fig, ax = plt.subplots(figsize=(12,6))\n",
    "ax.plot(qd_distance_grid, calculate_potential(qd_distance_grid, cur_potential, eps, sigma)[0])"
   ]
  },
  {
   "cell_type": "code",
   "execution_count": null,
   "metadata": {},
   "outputs": [],
   "source": [
    "# calculate current model with potential, best epsilon and best sigma (scale)\n",
    "_,gibbs_potential,_ = calculate_potential(qd_distance_grid, cur_potential, eps, sigma)\n",
    "Z = calculate_Z(gibbs_potential)\n",
    "observed_model_fit_pd_pdf = gibbs_potential * qd_pdf * (1 / Z);\n",
    "\n",
    "area = 0\n",
    "i = 0\n",
    "while i < len(qd_distance_grid)-1:\n",
    "    area += 0.5*(observed_model_fit_pd_pdf[i]+observed_model_fit_pd_pdf[i+1])*bin_width\n",
    "    i += 1\n",
    "    \n",
    "observed_model_fit_pd_pdf = observed_model_fit_pd_pdf/area"
   ]
  },
  {
   "cell_type": "code",
   "execution_count": null,
   "metadata": {},
   "outputs": [],
   "source": [
    "# plot fitted model against original distances X to Y\n",
    "fig, ax = plt.subplots(figsize=(12,6))\n",
    "ax.plot(qd_distance_grid, distances_XtoY_pdf, label=\"distances X to Y\")\n",
    "ax.plot(qd_distance_grid, qd_pdf, label=\"distances Y to grid\")\n",
    "ax.plot(qd_distance_grid, observed_model_fit_pd_pdf, label=\"fitted model\")\n",
    "ax.legend()"
   ]
  },
  {
   "cell_type": "code",
   "execution_count": null,
   "metadata": {},
   "outputs": [],
   "source": []
  }
 ],
 "metadata": {
  "kernelspec": {
   "display_name": "Python 3",
   "language": "python",
   "name": "python3"
  },
  "language_info": {
   "codemirror_mode": {
    "name": "ipython",
    "version": 3
   },
   "file_extension": ".py",
   "mimetype": "text/x-python",
   "name": "python",
   "nbconvert_exporter": "python",
   "pygments_lexer": "ipython3",
   "version": "3.6.5"
  }
 },
 "nbformat": 4,
 "nbformat_minor": 2
}
